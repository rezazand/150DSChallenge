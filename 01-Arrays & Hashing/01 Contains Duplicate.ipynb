{
 "cells": [
  {
   "cell_type": "markdown",
   "id": "5c0b6f43-a737-4855-bae0-607f6f2840e0",
   "metadata": {},
   "source": [
    "Given an integer array ```nums```, return ```true``` if any value appears __at least twice__ in the array, and return ```false``` if every element is distinct.\n",
    "\n",
    "__Example 1__:\n",
    "\n",
    "Input: nums = [1,2,3,1]\n",
    "\n",
    "Output: true\n",
    "\n",
    "Explanation:\n",
    "\n",
    "The element 1 occurs at the indices 0 and 3.\n",
    "\n",
    "__Example 2__:\n",
    "\n",
    "Input: nums = [1,2,3,4]\n",
    "\n",
    "Output: false\n",
    "\n",
    "Explanation:\n",
    "\n",
    "All elements are distinct.\n",
    "\n",
    "__Example 3__:\n",
    "\n",
    "Input: nums = [1,1,1,3,3,4,3,2,4,2]\n",
    "\n",
    ": true\n",
    "\n",
    " \n",
    "\n",
    "__Constraints__:\n",
    "\n",
    "- 1 <= nums.length <= 105\n",
    "- -109 <= nums[i] <= 109"
   ]
  },
  {
   "cell_type": "code",
   "execution_count": null,
   "id": "0a56b818-f5a8-4cd0-aeae-35a64d9c73c0",
   "metadata": {},
   "outputs": [],
   "source": [
    "class Solution:\n",
    "    def containsDuplicate(self, nums: List[int]) -> bool:\n",
    "        return len(set(nums)) < len(nums)"
   ]
  }
 ],
 "metadata": {
  "kernelspec": {
   "display_name": "Python 3 (ipykernel)",
   "language": "python",
   "name": "python3"
  },
  "language_info": {
   "codemirror_mode": {
    "name": "ipython",
    "version": 3
   },
   "file_extension": ".py",
   "mimetype": "text/x-python",
   "name": "python",
   "nbconvert_exporter": "python",
   "pygments_lexer": "ipython3",
   "version": "3.13.5"
  }
 },
 "nbformat": 4,
 "nbformat_minor": 5
}
