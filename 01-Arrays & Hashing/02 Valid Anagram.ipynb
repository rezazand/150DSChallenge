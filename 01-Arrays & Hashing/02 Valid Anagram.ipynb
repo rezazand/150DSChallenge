{
 "cells": [
  {
   "cell_type": "markdown",
   "id": "25ab51fe-0277-4676-b051-42e26e7520c2",
   "metadata": {},
   "source": [
    "Given two strings ```s``` and ```t```, return ```true``` if ```t``` is an anagram of ```s```, and ```false``` otherwise.\n",
    "\n",
    " \n",
    "\n",
    "__Example 1__:\n",
    "\n",
    "Input: s = \"anagram\", t = \"nagaram\"\n",
    "\n",
    "Output: true\n",
    "\n",
    "__Example 2__:\n",
    "\n",
    "Input: s = \"rat\", t = \"car\"\n",
    "\n",
    "Output: false\n",
    "\n",
    " \n",
    "\n",
    "__Constraints__:\n",
    "\n",
    "- 1 <= s.length, t.length <= 5 * 104\n",
    "- s and t consist of lowercase English letters.\n",
    " \n",
    "\n",
    "__Follow up__: What if the inputs contain Unicode characters? How would you adapt your solution to such a case?"
   ]
  },
  {
   "cell_type": "code",
   "execution_count": null,
   "id": "8b95e9fa-86f7-459d-b274-a2a97fb9f2be",
   "metadata": {},
   "outputs": [],
   "source": [
    "class Solution:\n",
    "    def isAnagram(self, s: str, t: str) -> bool:\n",
    "        return len(s) == len(t) and Counter(s) == Counter(t)"
   ]
  }
 ],
 "metadata": {
  "kernelspec": {
   "display_name": "Python 3 (ipykernel)",
   "language": "python",
   "name": "python3"
  },
  "language_info": {
   "codemirror_mode": {
    "name": "ipython",
    "version": 3
   },
   "file_extension": ".py",
   "mimetype": "text/x-python",
   "name": "python",
   "nbconvert_exporter": "python",
   "pygments_lexer": "ipython3",
   "version": "3.13.5"
  }
 },
 "nbformat": 4,
 "nbformat_minor": 5
}
