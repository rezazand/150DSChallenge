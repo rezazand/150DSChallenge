{
 "cells": [
  {
   "cell_type": "markdown",
   "id": "cd0b00ad-a95f-4f72-af2a-e27d4064796e",
   "metadata": {},
   "source": [
    "Given an array of integers ```nums``` and an integer ```target```, return indices of the two numbers such that they add up to ```target```.\n",
    "\n",
    "You may assume that each input would have exactly one solution, and you may not use the same element twice.\n",
    "\n",
    "You can return the answer in any order.\n",
    "\n",
    " \n",
    "\n",
    "__Example 1__:\n",
    "\n",
    "Input: nums = [2,7,11,15], target = 9\n",
    "Output: [0,1]\n",
    "Explanation: Because nums[0] + nums[1] == 9, we return [0, 1].\n",
    "\n",
    "__Example 2__:\n",
    "\n",
    "Input: nums = [3,2,4], target = 6\n",
    "Output: [1,2]\n",
    "\n",
    "__Example 3__:\n",
    "\n",
    "Input: nums = [3,3], target = 6\n",
    "Output: [0,1]\n",
    " \n",
    "\n",
    "__Constraints__:\n",
    "\n",
    "- ```2 <= nums.length <= 104```\n",
    "- ```-109 <= nums[i] <= 109```\n",
    "- ```-109 <= target <= 109```\n",
    "- __Only one valid answer exists.__\n",
    " \n",
    "\n",
    "__Follow-up__: Can you come up with an algorithm that is less than ```O(n2)``` time complexity?"
   ]
  },
  {
   "cell_type": "code",
   "execution_count": null,
   "id": "4cda5658-a45c-48f8-ac2c-d7eaa48ecca4",
   "metadata": {},
   "outputs": [],
   "source": [
    "class Solution:\n",
    "    def twoSum(self, nums: List[int], target: int) -> List[int]:\n",
    "        num_map = {} \n",
    "\n",
    "        for i, num in enumerate(nums):\n",
    "            complement = target - num\n",
    "            if complement in num_map:\n",
    "                return [num_map[complement], i]\n",
    "            num_map[num] = i\n",
    "        return []"
   ]
  }
 ],
 "metadata": {
  "kernelspec": {
   "display_name": "Python 3 (ipykernel)",
   "language": "python",
   "name": "python3"
  },
  "language_info": {
   "codemirror_mode": {
    "name": "ipython",
    "version": 3
   },
   "file_extension": ".py",
   "mimetype": "text/x-python",
   "name": "python",
   "nbconvert_exporter": "python",
   "pygments_lexer": "ipython3",
   "version": "3.13.5"
  }
 },
 "nbformat": 4,
 "nbformat_minor": 5
}
