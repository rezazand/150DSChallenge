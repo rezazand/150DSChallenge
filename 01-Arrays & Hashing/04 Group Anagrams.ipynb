{
 "cells": [
  {
   "cell_type": "markdown",
   "id": "218431bc-76ab-43d6-a712-e6f5c407f56c",
   "metadata": {},
   "source": [
    "Given an array of strings ```strs```, group the anagrams together. You can return the answer in **any order**.\n",
    "\n",
    " \n",
    "\n",
    "**Example 1**:\n",
    "\n",
    "    Input: strs = [\"eat\",\"tea\",\"tan\",\"ate\",\"nat\",\"bat\"]\n",
    "    \n",
    "    Output: [[\"bat\"],[\"nat\",\"tan\"],[\"ate\",\"eat\",\"tea\"]]\n",
    "    \n",
    "    Explanation:\n",
    "    \n",
    "    There is no string in strs that can be rearranged to form \"bat\".\n",
    "    The strings \"nat\" and \"tan\" are anagrams as they can be rearranged to form each other.\n",
    "    The strings \"ate\", \"eat\", and \"tea\" are anagrams as they can be rearranged to form each other.\n",
    "\n",
    "**Example 2**:\n",
    "\n",
    "    Input: strs = [\"\"]\n",
    "    \n",
    "    Output: [[\"\"]]\n",
    "\n",
    "**Example 3**:\n",
    "\n",
    "    Input: strs = [\"a\"]\n",
    "    \n",
    "    Output: [[\"a\"]]\n",
    "\n",
    " \n",
    "\n",
    "**Constraints**:\n",
    "\n",
    "- ```1 <= strs.length <= 104```\n",
    "- ```0 <= strs[i].length <= 100```\n",
    "- ```strs[i]``` consists of lowercase English letters."
   ]
  },
  {
   "cell_type": "code",
   "execution_count": null,
   "id": "24be8110-9d22-434c-80a0-476b5dffb606",
   "metadata": {},
   "outputs": [],
   "source": [
    "class Solution:\n",
    "    def groupAnagrams(self, strs: List[str]) -> List[List[str]]:\n",
    "        diction = defaultdict(list)\n",
    "        for string in strs:\n",
    "            count = [0] * 26\n",
    "            for char in string:\n",
    "                count[ord(char) - ord('a')] +=1 \n",
    "            diction[tuple(count)].append(string)\n",
    "        return list(diction.values())\n",
    "            \n",
    "            "
   ]
  }
 ],
 "metadata": {
  "kernelspec": {
   "display_name": "Python 3 (ipykernel)",
   "language": "python",
   "name": "python3"
  },
  "language_info": {
   "codemirror_mode": {
    "name": "ipython",
    "version": 3
   },
   "file_extension": ".py",
   "mimetype": "text/x-python",
   "name": "python",
   "nbconvert_exporter": "python",
   "pygments_lexer": "ipython3",
   "version": "3.13.5"
  }
 },
 "nbformat": 4,
 "nbformat_minor": 5
}
