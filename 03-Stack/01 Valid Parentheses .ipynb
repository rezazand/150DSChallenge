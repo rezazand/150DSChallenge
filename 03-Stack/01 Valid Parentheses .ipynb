{
 "cells": [
  {
   "cell_type": "markdown",
   "id": "a8d4dc5e-a64c-4753-b585-9d4e6cc607d6",
   "metadata": {},
   "source": [
    "Given a string ```s``` containing just the characters ```'('```, ```')'```, ```'{'```, ```'}'```, ```'['``` and```']'```, determine if the input string is valid.\n",
    "\n",
    "An input string is valid if:\n",
    "\n",
    "Open brackets must be closed by the same type of brackets.\n",
    "Open brackets must be closed in the correct order.\n",
    "Every close bracket has a corresponding open bracket of the same type.\n",
    " \n",
    "\n",
    "**Example 1:**\n",
    "    \n",
    "    Input: s = \"()\"\n",
    "    \n",
    "    Output: true\n",
    "\n",
    "**Example 2:**\n",
    "    \n",
    "    Input: s = \"()[]{}\"\n",
    "    \n",
    "    Output: true\n",
    "\n",
    "**Example 3:**\n",
    "\n",
    "    Input: s = \"(]\"\n",
    "    \n",
    "    Output: false\n",
    "\n",
    "**Example 4:**\n",
    "    \n",
    "    Input: s = \"([])\"\n",
    "    \n",
    "    Output: true\n",
    "    \n",
    "     \n",
    "\n",
    "**Constraints:**\n",
    "\n",
    "- ```1 <= s.length <= 104```\n",
    "- ```s``` consists of parentheses only ```'()[]{}'```."
   ]
  },
  {
   "cell_type": "code",
   "execution_count": null,
   "id": "7c1f4451-3bad-48c1-8c40-d0b5c5a63d8c",
   "metadata": {},
   "outputs": [],
   "source": [
    "class Solution:\n",
    "    def isValid(self, s: str) -> bool:\n",
    "        stack = []\n",
    "        flag=0\n",
    "        for c in s:\n",
    "            if c == '[' or c =='(' or c =='{':\n",
    "                stack.append(c)\n",
    "                flag+=1\n",
    "            elif c == ']'or c =='}':\n",
    "                if stack and ord(c) - 2 == ord(stack[-1]):\n",
    "                    stack.pop()\n",
    "                flag-=1\n",
    "            elif c == ')': \n",
    "                if stack and ord(c) - 1 == ord(stack[-1]):\n",
    "                    stack.pop()\n",
    "                flag-=1\n",
    "        return not stack and not flag"
   ]
  },
  {
   "cell_type": "code",
   "execution_count": null,
   "id": "bf3d471a-2ce7-4d92-ab49-ccf01ea876b5",
   "metadata": {},
   "outputs": [],
   "source": [
    "solut = Solution()\n",
    "print(solut.isValid(\"df]\"))"
   ]
  }
 ],
 "metadata": {
  "kernelspec": {
   "display_name": "Python 3 (ipykernel)",
   "language": "python",
   "name": "python3"
  },
  "language_info": {
   "codemirror_mode": {
    "name": "ipython",
    "version": 3
   },
   "file_extension": ".py",
   "mimetype": "text/x-python",
   "name": "python",
   "nbconvert_exporter": "python",
   "pygments_lexer": "ipython3",
   "version": "3.13.5"
  }
 },
 "nbformat": 4,
 "nbformat_minor": 5
}
