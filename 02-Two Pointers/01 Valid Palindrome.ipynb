{
 "cells": [
  {
   "cell_type": "markdown",
   "id": "bd05c0e2-537f-4521-8325-49fb8fa57cf8",
   "metadata": {},
   "source": [
    "A phrase is a **palindrome** if, after converting all uppercase letters into lowercase letters and removing all non-alphanumeric characters, it reads the same forward and backward. Alphanumeric characters include letters and numbers.\n",
    "\n",
    "Given a string ```s```, return ```true``` if it is a **palindrome**, or ```false``` otherwise.\n",
    "\n",
    " \n",
    "\n",
    "**Example 1:**\n",
    "    \n",
    "    Input: s = \"A man, a plan, a canal: Panama\"\n",
    "    Output: true\n",
    "    Explanation: \"amanaplanacanalpanama\" is a palindrome.\n",
    "\n",
    "**Example 2:**\n",
    "    \n",
    "    Input: s = \"race a car\"\n",
    "    Output: false\n",
    "    Explanation: \"raceacar\" is not a palindrome.\n",
    "    \n",
    "**Example 3:**\n",
    "    \n",
    "    Input: s = \" \"\n",
    "    Output: true\n",
    "    Explanation: s is an empty string \"\" after removing non-alphanumeric characters.\n",
    "    Since an empty string reads the same forward and backward, it is a palindrome.\n",
    " \n",
    "\n",
    "**Constraints:**\n",
    "\n",
    "- ```1 <= s.length <= 2 * 105```\n",
    "- ```s``` consists only of printable ASCII characters."
   ]
  },
  {
   "cell_type": "code",
   "execution_count": 1,
   "id": "d9a178e8-c078-40b2-9c5c-f89ef0a37e0f",
   "metadata": {},
   "outputs": [],
   "source": [
    "import re \n",
    "class Solution:\n",
    "    def isPalindrome(self, s: str) -> bool:\n",
    "        s = re.sub(r\"[^a-zA-Z0-9]\",'',s).lower()\n",
    "        for i in range(len(s)//2):\n",
    "            if not s[i]==s[-(i+1)]:\n",
    "                return False\n",
    "        return True #o(n)\n",
    "\n"
   ]
  },
  {
   "cell_type": "code",
   "execution_count": null,
   "id": "bf38b40a-e1c4-447a-8bf5-17761c879d08",
   "metadata": {},
   "outputs": [],
   "source": [
    "# manual checking for alphanumeric chars\n",
    "class Solution:\n",
    "    def isPalindrome(self, s: str) -> bool:\n",
    "        string = []\n",
    "        for c in s:\n",
    "            asciicode = ord(c)\n",
    "            if 48<=asciicode<=57 or 65 <=asciicode <= 90 :\n",
    "                string.append(c)\n",
    "            elif 97<=asciicode<=122:\n",
    "                string.append(chr(asciicode-32))\n",
    "\n",
    "        strLen = len(string)\n",
    "        for i in range(strLen // 2):\n",
    "            if not string[i]==string[-(i+1)]:\n",
    "                return False\n",
    "        return True\n"
   ]
  },
  {
   "cell_type": "code",
   "execution_count": null,
   "id": "de2107ff-b180-4c06-bff6-fdc8c34ba148",
   "metadata": {},
   "outputs": [],
   "source": [
    "# pythonic way\n",
    "class Solution:\n",
    "    def isPalindrome(self, s: str) -> bool:\n",
    "        s = re.sub(r\"[^a-zA-Z0-9]\",'',s).lower()\n",
    "        return s == s[::-1]  "
   ]
  },
  {
   "cell_type": "code",
   "execution_count": null,
   "id": "de50a010-84ad-4e3e-bb10-b8fe3625912e",
   "metadata": {},
   "outputs": [],
   "source": [
    "solu = Solution()\n",
    "print(solu.isPalindrome(\"A man, a plan, a canal: Panama\"))"
   ]
  }
 ],
 "metadata": {
  "kernelspec": {
   "display_name": "Python 3 (ipykernel)",
   "language": "python",
   "name": "python3"
  },
  "language_info": {
   "codemirror_mode": {
    "name": "ipython",
    "version": 3
   },
   "file_extension": ".py",
   "mimetype": "text/x-python",
   "name": "python",
   "nbconvert_exporter": "python",
   "pygments_lexer": "ipython3",
   "version": "3.13.5"
  }
 },
 "nbformat": 4,
 "nbformat_minor": 5
}
