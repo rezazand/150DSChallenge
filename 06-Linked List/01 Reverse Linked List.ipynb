{
 "cells": [
  {
   "cell_type": "markdown",
   "id": "09a9f8e7-fff0-4356-aadb-2d774a2cf5f2",
   "metadata": {},
   "source": [
    "Given the head of a singly linked list, reverse the list, and return the reversed list.\n",
    "\n",
    " \n",
    "\n",
    "Example 1:\n",
    "\n",
    "\n",
    "Input: head = [1,2,3,4,5]\n",
    "Output: [5,4,3,2,1]\n",
    "Example 2:\n",
    "\n",
    "\n",
    "Input: head = [1,2]\n",
    "Output: [2,1]\n",
    "Example 3:\n",
    "\n",
    "Input: head = []\n",
    "Output: []\n",
    " \n",
    "\n",
    "Constraints:\n",
    "\n",
    "The number of nodes in the list is the range [0, 5000].\n",
    "-5000 <= Node.val <= 5000\n",
    " \n",
    "\n",
    "Follow up: A linked list can be reversed either iteratively or recursively. Could you implement both?"
   ]
  },
  {
   "cell_type": "code",
   "execution_count": null,
   "id": "ae623500-70ce-4a71-9b69-6d9c31856055",
   "metadata": {},
   "outputs": [],
   "source": [
    "# Definition for singly-linked list.\n",
    "class ListNode:\n",
    "    def __init__(self, val=0, next=None):\n",
    "        self.val = val\n",
    "        self.next = next\n"
   ]
  },
  {
   "cell_type": "code",
   "execution_count": null,
   "id": "c66e08cc-7867-4928-a8fa-467c225ac6df",
   "metadata": {},
   "outputs": [],
   "source": [
    "# حافظه اش خوب نیست\n",
    "class Solution:\n",
    "    def reverseList(self, head: [ListNode]) -> [ListNode]:\n",
    "        stack = []\n",
    "        if not head:\n",
    "            return None\n",
    "        \n",
    "        while current:\n",
    "            stack.append(head.val)\n",
    "            head = head.next\n",
    "   \n",
    "        head = ListNode(stack.pop())\n",
    "        current = head\n",
    "        while stack:\n",
    "            current.next = ListNode(stack.pop())\n",
    "            current = current.next\n",
    "        \n",
    "        return head"
   ]
  },
  {
   "cell_type": "code",
   "execution_count": null,
   "id": "179f4118-ea40-4451-8c8f-43068476132f",
   "metadata": {},
   "outputs": [],
   "source": [
    "#حل بازگشتی\n",
    "class Solution:\n",
    " \n",
    "    def reverseList(self, head: [ListNode]) -> [ListNode]:\n",
    "        if head is None or head.next is None:\n",
    "            return head\n",
    "        \n",
    "        node = self.reverseList(head.next)\n",
    "       \n",
    "        head.next.next = head\n",
    "        head.next = None\n",
    "        \n",
    "        return node"
   ]
  },
  {
   "cell_type": "code",
   "execution_count": null,
   "id": "1f120491-85ce-4d13-aab0-6f509c580e69",
   "metadata": {},
   "outputs": [],
   "source": [
    "class Solution:\n",
    "    def reverseList(self, head: [ListNode]):\n",
    "        prev = None\n",
    "\n",
    "        while head:\n",
    "            next_node = head.next\n",
    "            head.next = prev\n",
    "            prev = head\n",
    "            head = next_node\n",
    "\n",
    "        return prev"
   ]
  }
 ],
 "metadata": {
  "kernelspec": {
   "display_name": "Python 3 (ipykernel)",
   "language": "python",
   "name": "python3"
  },
  "language_info": {
   "codemirror_mode": {
    "name": "ipython",
    "version": 3
   },
   "file_extension": ".py",
   "mimetype": "text/x-python",
   "name": "python",
   "nbconvert_exporter": "python",
   "pygments_lexer": "ipython3",
   "version": "3.13.5"
  }
 },
 "nbformat": 4,
 "nbformat_minor": 5
}
